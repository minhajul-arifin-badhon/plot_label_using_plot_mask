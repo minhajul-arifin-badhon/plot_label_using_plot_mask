{
 "cells": [
  {
   "cell_type": "code",
   "execution_count": 3,
   "metadata": {},
   "outputs": [
    {
     "data": {
      "text/plain": [
       "True"
      ]
     },
     "execution_count": 3,
     "metadata": {},
     "output_type": "execute_result"
    }
   ],
   "source": [
    "import numpy as np\n",
    "import glob\n",
    "import cv2\n",
    "import matplotlib.pyplot as plt\n",
    "import skimage.io as io\n",
    "import os as os\n",
    "\n",
    "def apply_fn_to_img_without_overflow(f, im):\n",
    "    \"\"\"\n",
    "    :param f: must take only an im as an argument.\n",
    "    :param im: must be an np integer type image\n",
    "    :return: transformed image, in original type.\n",
    "    \"\"\"\n",
    "\n",
    "    max_val = np.iinfo(im.dtype).max\n",
    "    return np.rint(np.clip(f(im.astype(np.float64)), 0, max_val)).astype(im.dtype)\n",
    "\n",
    "images_path = os.path.join('../../', 'Dataset/Orthomosaics/images/4.png')\n",
    "images_path_o = os.path.join('../../', 'Dataset/Orthomosaics/images/4_r.png')\n",
    "\n",
    "im = io.imread (images_path)\n",
    "r = im[:,:,0]\n",
    "g = im[:,:,1]\n",
    "b = im[:,:,2]\n",
    "rgb = np.dstack((r,g,b,))\n",
    "\n",
    "im20 = apply_fn_to_img_without_overflow(lambda img: img * 5, rgb)\n",
    "cv2.imwrite(images_path_o, im20)\n"
   ]
  },
  {
   "cell_type": "code",
   "execution_count": null,
   "metadata": {},
   "outputs": [],
   "source": []
  }
 ],
 "metadata": {
  "kernelspec": {
   "display_name": "Python 3",
   "language": "python",
   "name": "python3"
  },
  "language_info": {
   "codemirror_mode": {
    "name": "ipython",
    "version": 3
   },
   "file_extension": ".py",
   "mimetype": "text/x-python",
   "name": "python",
   "nbconvert_exporter": "python",
   "pygments_lexer": "ipython3",
   "version": "3.7.3"
  }
 },
 "nbformat": 4,
 "nbformat_minor": 2
}
